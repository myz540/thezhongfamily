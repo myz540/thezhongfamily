{
 "cells": [
  {
   "cell_type": "code",
   "execution_count": null,
   "metadata": {
    "collapsed": true
   },
   "outputs": [],
   "source": [
    "# This python notebook was started 7/25/17 and aims to learn the intricacies of the python database API\n",
    "# In particular, I would like to accomplish the following:\n",
    "# - assign foreignkeys and establish many-to-many relationships\n",
    "# - query my data set\n",
    "# - update my data set\n",
    "\n",
    "import os\n",
    "import django\n",
    "os.environ.setdefault(\"DJANGO_SETTINGS_MODULE\", \"thezhongfamily.settings\")\n",
    "django.setup()\n",
    "import joblib\n",
    "import catan.models as catan\n",
    "import random\n",
    "import numpy as np\n",
    "\n",
    "# let the learning begin!"
   ]
  }
 ],
 "metadata": {
  "kernelspec": {
   "display_name": "Python 2",
   "language": "python",
   "name": "python2"
  },
  "language_info": {
   "codemirror_mode": {
    "name": "ipython",
    "version": 2.0
   },
   "file_extension": ".py",
   "mimetype": "text/x-python",
   "name": "python",
   "nbconvert_exporter": "python",
   "pygments_lexer": "ipython2",
   "version": "2.7.6"
  }
 },
 "nbformat": 4,
 "nbformat_minor": 0
}