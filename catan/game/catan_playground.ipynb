{
 "cells": [
  {
   "cell_type": "code",
   "execution_count": 1,
   "metadata": {
    "collapsed": true
   },
   "outputs": [],
   "source": [
    "# This python notebook was started 7/25/17 and aims to learn the intricacies of the python database API\n",
    "# In particular, I would like to accomplish the following:\n",
    "# - assign foreignkeys and establish many-to-many relationships\n",
    "# - query my data set\n",
    "# - update my data set\n",
    "\n",
    "import os\n",
    "import django\n",
    "os.chdir(\"C:/dev/thezhongfamily\")\n",
    "os.environ.setdefault(\"DJANGO_SETTINGS_MODULE\", \"thezhongfamily.settings\")\n",
    "django.setup()\n",
    "import joblib\n",
    "import catan.models as catan\n",
    "import random\n",
    "import numpy as np\n",
    "\n",
    "# let the learning begin!"
   ]
  },
  {
   "cell_type": "code",
   "execution_count": 2,
   "metadata": {},
   "outputs": [
    {
     "name": "stdout",
     "output_type": "stream",
     "text": [
      "<class 'list'> [<Player: Player 0 with 0 victory points>, <Player: Player 1 with 0 victory points>, <Player: Player 2 with 0 victory points>, <Player: Player 3 with 0 victory points>]\n"
     ]
    }
   ],
   "source": [
    "players = list(catan.Player.objects.all())\n",
    "print(type(players), players)"
   ]
  },
  {
   "cell_type": "code",
   "execution_count": 3,
   "metadata": {},
   "outputs": [
    {
     "name": "stdout",
     "output_type": "stream",
     "text": [
      "54 72 19\n"
     ]
    }
   ],
   "source": [
    "vertices = list(catan.Vertex.objects.all())\n",
    "edges = list(catan.Edge.objects.all())\n",
    "tiles = list(catan.Tile.objects.all())\n",
    "print(len(vertices), len(edges), len(tiles))"
   ]
  },
  {
   "cell_type": "code",
   "execution_count": 4,
   "metadata": {},
   "outputs": [
    {
     "data": {
      "text/plain": [
       "True"
      ]
     },
     "execution_count": 4,
     "metadata": {},
     "output_type": "execute_result"
    }
   ],
   "source": [
    "edges[1].available\n",
    "vertices[1].available"
   ]
  },
  {
   "cell_type": "code",
   "execution_count": 5,
   "metadata": {},
   "outputs": [
    {
     "name": "stdout",
     "output_type": "stream",
     "text": [
      "Player 2 with 0 victory points\n",
      "I am vertex 1 <class 'catan.models.Vertex'>\n"
     ]
    }
   ],
   "source": [
    "print(vertices[1].settlement)\n",
    "vertex = vertices[1]\n",
    "print(vertex, type(vertex))"
   ]
  },
  {
   "cell_type": "code",
   "execution_count": 6,
   "metadata": {},
   "outputs": [
    {
     "name": "stdout",
     "output_type": "stream",
     "text": [
      "[<Vertex: I am vertex 1>, <Vertex: I am vertex 4>, <Vertex: I am vertex 7>]\n"
     ]
    }
   ],
   "source": [
    "# YES, assigned a vertex to a player, through that vertex, we can now see what tiles that player owns\n",
    "player = players[1]\n",
    "player.vertex_set.add(vertex)\n",
    "print(player.vertex_set.all())"
   ]
  },
  {
   "cell_type": "code",
   "execution_count": 7,
   "metadata": {},
   "outputs": [
    {
     "name": "stdout",
     "output_type": "stream",
     "text": [
      "[<Vertex: I am vertex 1>, <Vertex: I am vertex 4>, <Vertex: I am vertex 7>]\n"
     ]
    }
   ],
   "source": [
    "player.vertex_set.add(vertices[4])\n",
    "player.vertex_set.add(vertices[7])\n",
    "print(player.vertex_set.all())"
   ]
  },
  {
   "cell_type": "code",
   "execution_count": 8,
   "metadata": {},
   "outputs": [
    {
     "name": "stdout",
     "output_type": "stream",
     "text": [
      "Player 2 with 0 victory points False\n"
     ]
    }
   ],
   "source": [
    "player2 = players[2]\n",
    "player2.vertex_set.add(vertex)\n",
    "print(vertex.settlement, vertex.has_city)"
   ]
  },
  {
   "cell_type": "code",
   "execution_count": 9,
   "metadata": {},
   "outputs": [
    {
     "data": {
      "text/plain": [
       "[]"
      ]
     },
     "execution_count": 9,
     "metadata": {},
     "output_type": "execute_result"
    }
   ],
   "source": [
    "player.vertex_set.filter(has_city=False)"
   ]
  },
  {
   "cell_type": "code",
   "execution_count": 10,
   "metadata": {},
   "outputs": [],
   "source": [
    "free_v = player.vertex_set.filter(has_city=False)"
   ]
  },
  {
   "cell_type": "code",
   "execution_count": 11,
   "metadata": {},
   "outputs": [
    {
     "name": "stdout",
     "output_type": "stream",
     "text": [
      "[] <class 'django.db.models.query.QuerySet'>\n"
     ]
    }
   ],
   "source": [
    "for v in free_v:\n",
    "    v.has_city = True\n",
    "    v.save()\n",
    "\n",
    "free_v = player.vertex_set.filter(has_city=False)\n",
    "print(free_v, type(free_v))"
   ]
  },
  {
   "cell_type": "code",
   "execution_count": 12,
   "metadata": {},
   "outputs": [
    {
     "data": {
      "text/plain": [
       "False"
      ]
     },
     "execution_count": 12,
     "metadata": {},
     "output_type": "execute_result"
    }
   ],
   "source": [
    "vertex.has_city"
   ]
  },
  {
   "cell_type": "code",
   "execution_count": 13,
   "metadata": {
    "collapsed": true
   },
   "outputs": [],
   "source": [
    "tile = tiles[1]\n",
    "tile.vertex.add(vertex)\n",
    "tile.save()"
   ]
  },
  {
   "cell_type": "code",
   "execution_count": 14,
   "metadata": {},
   "outputs": [
    {
     "data": {
      "text/plain": [
       "[<Tile: I am tile 1 and I am a wood tile>]"
      ]
     },
     "execution_count": 14,
     "metadata": {},
     "output_type": "execute_result"
    }
   ],
   "source": [
    "vertex.tile_set.all()"
   ]
  },
  {
   "cell_type": "code",
   "execution_count": 16,
   "metadata": {},
   "outputs": [
    {
     "name": "stdout",
     "output_type": "stream",
     "text": [
      "I am tile 0 and I am a wheat tile <class 'catan.models.Tile'>\n"
     ]
    }
   ],
   "source": [
    "tile = tiles[0]\n",
    "print(tile, type(tile))"
   ]
  },
  {
   "cell_type": "code",
   "execution_count": 20,
   "metadata": {},
   "outputs": [],
   "source": [
    "# assign edge and vertex to tile\n",
    "edge = edges[1]\n",
    "tile.vertex.add(vertex)\n",
    "tile.edge.add(edge)\n",
    "tile.edge.add(edges[5])\n",
    "tile.vertex.add(vertices[11])\n",
    "tile.save()"
   ]
  },
  {
   "cell_type": "code",
   "execution_count": 21,
   "metadata": {},
   "outputs": [
    {
     "name": "stdout",
     "output_type": "stream",
     "text": [
      "[<Edge: I am edge 1>, <Edge: I am edge 5>]\n"
     ]
    }
   ],
   "source": [
    "my_e = tile.edge.all()\n",
    "print(my_e)"
   ]
  },
  {
   "cell_type": "code",
   "execution_count": 22,
   "metadata": {},
   "outputs": [
    {
     "name": "stdout",
     "output_type": "stream",
     "text": [
      "[<Vertex: I am vertex 0>, <Vertex: I am vertex 1>, <Vertex: I am vertex 11>]\n"
     ]
    }
   ],
   "source": [
    "my_v = tile.vertex.all()\n",
    "print(my_v)"
   ]
  },
  {
   "cell_type": "code",
   "execution_count": null,
   "metadata": {
    "collapsed": true
   },
   "outputs": [],
   "source": []
  }
 ],
 "metadata": {
  "kernelspec": {
   "display_name": "Python 3",
   "language": "python",
   "name": "python3"
  },
  "language_info": {
   "codemirror_mode": {
    "name": "ipython",
    "version": 3
   },
   "file_extension": ".py",
   "mimetype": "text/x-python",
   "name": "python",
   "nbconvert_exporter": "python",
   "pygments_lexer": "ipython3",
   "version": "3.6.0"
  }
 },
 "nbformat": 4,
 "nbformat_minor": 1
}
